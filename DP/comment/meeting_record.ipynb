{
 "cells": [
  {
   "cell_type": "markdown",
   "source": [
    "{\\today}\n",
    "1. Qichen, WANG's parameter analysis in his paper, can be adapted to the data generation (as well as average analysis, neighborhood analysis)\n",
    "2. Regular meeting on Wednesday 4:00pm, start from next week\n",
    "3. I shall make a presentation on \"Continuous Release of Data Streams under both Centralized and Local Differential Privacy\"\n",
    "4."
   ],
   "metadata": {
    "collapsed": false
   }
  },
  {
   "cell_type": "markdown",
   "source": [],
   "metadata": {
    "collapsed": false
   }
  }
 ],
 "metadata": {
  "kernelspec": {
   "display_name": "Python 3",
   "language": "python",
   "name": "python3"
  },
  "language_info": {
   "codemirror_mode": {
    "name": "ipython",
    "version": 2
   },
   "file_extension": ".py",
   "mimetype": "text/x-python",
   "name": "python",
   "nbconvert_exporter": "python",
   "pygments_lexer": "ipython2",
   "version": "2.7.6"
  }
 },
 "nbformat": 4,
 "nbformat_minor": 0
}
